{
 "cells": [
  {
   "cell_type": "markdown",
   "metadata": {
    "id": "O5DIRljFBbll"
   },
   "source": [
    "## Scientific Computing 2023: Homework Assignment 1\n",
    "Due Sunday October 15, 2023, 23:59\n",
    "\n",
    "### Problem 1 (2 points)\n",
    "Under assumptions of Amdahl's law, suppose that 75% of a program are perfectly parallelizable, and the rest is not parallelizable.\n",
    "1. What is the maximum speedup achievable by parallelization?\n",
    "2. Suppose that we have obtained speedup 2 (by using a suitable number of processes). What is the efficiency of this parallelization?"
   ]
  },
  {
   "cell_type": "markdown",
   "metadata": {
    "id": "3bi2TiFOTc5-"
   },
   "source": [
    "### Answer 1\n",
    "#### Amdahl's Law\n",
    "## $S = \\frac{1}{s+\\frac{1-s}{P}}$\n",
    "$P$ - Number of processors \\\n",
    "$S$ - Work done sequentially\n",
    "\n",
    "1. Applying the formula from the lectures, with $s = 1 - 0.75 = 0.25$ we get:\n",
    "   #### $S = \\frac{1}{0.25+\\frac{0.75}{P}} = \\frac{1}{\\frac{1}{4} + \\frac{3}{4P}} = \\frac{1}{\\frac{P+3}{4P}} = \\frac{4P}{P+3} $\n",
    "\n",
    "   For: \\\n",
    "   $P = 10$, $S = 3.077$\n",
    "    \n",
    "   $P = 100$, $S = 3,883$\n",
    "   \n",
    "   $P = 1000$, $S = 3,988$\n",
    "\n",
    "   #### $\\lim_{P \\to \\infty} \\frac{4P}{P+3} = 4$\n",
    "   <br>\n",
    "2. Efficiency (E) is how efficient the parallelization is using available resources and is given by\n",
    "    #### $E = \\frac{S}{P}$\n",
    "\n",
    "   Solving Amdahl's Law for $S = 2$, we get $P = 3$. Therefore, $E = \\frac{2}{3} \\sim  0.67 $"
   ]
  },
  {
   "cell_type": "markdown",
   "metadata": {
    "id": "zYYE4MGXTc5_"
   },
   "source": [
    "### Problem 2 (2 points)\n",
    "Write a Python or C/C++ program that uses **MPI reduce** to find the largest file in terms of the  number of lines among all .txt files in the working directory (only .txt files should be examined). The program must be callable in the form `mpirun -np <N> python linecount.py` (in the case of the Python version) or `mpirun -np <N> linecount.exe` (the C/C++ version), where `<N>` is the user-defined number of processes. The program is expected to first somehow distribute the files found in the current directory to the processes, then each process should count the lines in the files assigned to it, and finally the result should be MPI-reduced and printed out. The program only needs to output **the number of lines in the largest file**; no need to output the name of this file. The program must work correctly even if the number of files is not divisible by the number of processes.\n"
   ]
  },
  {
   "cell_type": "code",
   "execution_count": null,
   "metadata": {
    "colab": {
     "base_uri": "https://localhost:8080/"
    },
    "id": "bBDfD9OHTqVt",
    "outputId": "3cb5891c-5574-4742-b005-afc9092a25c6"
   },
   "outputs": [
    {
     "name": "stdout",
     "output_type": "stream",
     "text": [
      "Collecting mpi4py\n",
      "  Downloading mpi4py-3.1.5.tar.gz (2.5 MB)\n",
      "\u001b[2K     \u001b[90m━━━━━━━━━━━━━━━━━━━━━━━━━━━━━━━━━━━━━━━━\u001b[0m \u001b[32m2.5/2.5 MB\u001b[0m \u001b[31m15.8 MB/s\u001b[0m eta \u001b[36m0:00:00\u001b[0m\n",
      "\u001b[?25h  Installing build dependencies ... \u001b[?25l\u001b[?25hdone\n",
      "  Getting requirements to build wheel ... \u001b[?25l\u001b[?25hdone\n",
      "  Preparing metadata (pyproject.toml) ... \u001b[?25l\u001b[?25hdone\n",
      "Building wheels for collected packages: mpi4py\n",
      "  Building wheel for mpi4py (pyproject.toml) ... \u001b[?25l\u001b[?25hdone\n",
      "  Created wheel for mpi4py: filename=mpi4py-3.1.5-cp310-cp310-linux_x86_64.whl size=2746495 sha256=4adfb53a617e5a59bcd1e552976ae26ffdc321f0c31525e3ee0f3073d2ea451b\n",
      "  Stored in directory: /root/.cache/pip/wheels/18/2b/7f/c852523089e9182b45fca50ff56f49a51eeb6284fd25a66713\n",
      "Successfully built mpi4py\n",
      "Installing collected packages: mpi4py\n",
      "Successfully installed mpi4py-3.1.5\n"
     ]
    }
   ],
   "source": [
    "!pip install mpi4py"
   ]
  },
  {
   "cell_type": "code",
   "execution_count": null,
   "metadata": {
    "id": "DX-WPW5wTc6A"
   },
   "outputs": [],
   "source": [
    "import os\n",
    "import sys\n",
    "from mpi4py import MPI\n",
    "\n",
    "def count_lines(filename):\n",
    "    with open(filename, 'r') as file:\n",
    "        return sum(1 for line in file)\n",
    "\n",
    "def main():\n",
    "    comm = MPI.COMM_WORLD\n",
    "    rank = comm.Get_rank()\n",
    "    size = comm.Get_size()\n",
    "\n",
    "    if len(sys.argv) != 2:\n",
    "        if rank == 0:\n",
    "            print(\"Usage: mpirun -np <N> python linecount.py <directory>\")\n",
    "        sys.exit(1)\n",
    "\n",
    "    directory = sys.argv[1]\n",
    "\n",
    "    if rank == 0:\n",
    "        txt_files = [f for f in os.listdir(directory) if f.endswith('.txt')]\n",
    "    else:\n",
    "        txt_files = None\n",
    "\n",
    "    txt_files = comm.bcast(txt_files, root=0)\n",
    "    num_files = len(txt_files)\n",
    "\n",
    "    files_per_process = num_files // size\n",
    "    remainder = num_files % size\n",
    "\n",
    "    start_idx = rank * files_per_process + min(rank, remainder)\n",
    "    end_idx = start_idx + files_per_process + (1 if rank < remainder else 0)\n",
    "\n",
    "    max_lines = 0\n",
    "    local_max_lines = 0\n",
    "\n",
    "    for idx in range(start_idx, end_idx):\n",
    "        file_path = os.path.join(directory, txt_files[idx])\n",
    "        line_count = count_lines(file_path)\n",
    "        local_max_lines = max(local_max_lines, line_count)\n",
    "\n",
    "    max_lines = comm.reduce(local_max_lines, op=MPI.MAX, root=0)\n",
    "\n",
    "    if rank == 0:\n",
    "        print(f\"Maximum number of lines in {sys.argv[1]}/*.txt files: {max_lines}\")\n",
    "\n",
    "if __name__ == \"__main__\":\n",
    "    main()\n"
   ]
  },
  {
   "cell_type": "markdown",
   "metadata": {
    "id": "AR7iUsqeWbow"
   },
   "source": [
    "**How to run:**\n",
    "\n",
    "\n",
    "1.   Create a `linecount.py` file inside the current directory and copy the code above into it.\n",
    "2.   Create `files` directory inside the current directory and create files with `.txt` extension and different total line numbers.\n",
    "3.   Run the cell below  \n",
    "\n"
   ]
  },
  {
   "cell_type": "code",
   "execution_count": null,
   "metadata": {
    "colab": {
     "base_uri": "https://localhost:8080/"
    },
    "id": "gBH1RbP9Tc6C",
    "outputId": "19d876f9-07f6-4d5c-a283-49624bb2df18"
   },
   "outputs": [
    {
     "name": "stdout",
     "output_type": "stream",
     "text": [
      "Maximum number of lines in files/*.txt files: 22\n"
     ]
    }
   ],
   "source": [
    "!mpirun --allow-run-as-root --oversubscribe -np 4 python linecount.py files"
   ]
  },
  {
   "cell_type": "markdown",
   "metadata": {
    "id": "viBzu6wxTc6D"
   },
   "source": [
    "\n",
    "### Problem 3 (2 points)\n",
    "Solve the Distinct Substrings problem at Sphere online judge: http://www.spoj.com/problems/DISUBSTR/. Provide code passing the test of the judge. Explain how your code works and theoretically estimate the complexity of the algorithm (as $O(f(N))$, where $f(N)$ is some function of the length of the input string). (Note: Sphere may require a VPN connection. If for some reason you cannot use VPN, you can solve a similar problem at the judge DMOJ that does not require VPN: https://dmoj.ca/problem/ccc03s4; note however that this judge does not support numpy. Indicate in your solution which version of the problem you were solving.)\n"
   ]
  },
  {
   "cell_type": "markdown",
   "metadata": {
    "id": "_7XHPBYGsb__"
   },
   "source": [
    "Solving **DISUBSTR - Distinct Substrings** on Sphere online judge\n",
    "\n",
    "**To run on colab:**\n",
    "- Create a file and name it `Makefile`\n",
    "- Copy and paste the text in the cell below to the `Makefile` file\n",
    "- Create a file called `disubstr.cpp`\n",
    "- Copy and paste the C++ code into the `disubstr.cpp` file"
   ]
  },
  {
   "cell_type": "markdown",
   "metadata": {
    "id": "jlBrtXtmsvWS"
   },
   "source": [
    "```python\n",
    "SRC = disubstr.cpp\n",
    "BIN = disubstr.out\n",
    "C++FLAGS = -o $(BIN) -std=c++17 -O3 -Wall\n",
    "C++ =  g++\n",
    "DATE = $(shell date +%d/%m/%y)\n",
    "#COMPUTER ?= Desktop\n",
    "\n",
    ".PHONY: all compile run clean\n",
    "\n",
    "all: clean compile\n",
    "\n",
    "compile:\n",
    "\t@echo \" *  Compiling\"\n",
    "\t-$(C++) $(SRC) $(C++FLAGS)\n",
    "\t@echo \" *  Created on: $(DATE)\"\n",
    "\t@echo \" *  Author: Aksoy Tevfik Oguzhan\"\n",
    "\n",
    "run:\n",
    "\t./$(BIN)\n",
    "\n",
    "clean:\n",
    "\trm -rf $(BIN)\n",
    "```\n",
    "\n"
   ]
  },
  {
   "cell_type": "markdown",
   "metadata": {
    "id": "hk5xqlAFt1Z2"
   },
   "source": [
    "\n",
    "```cpp\n",
    "#include <algorithm>\n",
    "#include <cstring>\n",
    "#include <ctime>\n",
    "#include <iomanip>\n",
    "#include <iostream>\n",
    "#include <vector>\n",
    "\n",
    "constexpr int MAXL = 1024;  // Max length of the string\n",
    "constexpr int MAXP = 12;    // Max power of 2\n",
    "\n",
    "// Arrays to store the string at each level and the inverse of the suffix array\n",
    "int stringLevels[MAXP][MAXL], inverseSuffixArray[MAXL];\n",
    "\n",
    "// Node of the suffix array, storing index and two ranks\n",
    "class SuffixNode {\n",
    " public:\n",
    "  int index;\n",
    "  int ranks[2];\n",
    "\n",
    "  void display() {\n",
    "    std::cout << \"Index: \" << index << std::endl;\n",
    "    std::cout << \"Ranks: \";\n",
    "    for (auto& i : ranks) {\n",
    "      std::cout << i << \", \";\n",
    "    }\n",
    "    std::cout << std::endl;\n",
    "  }\n",
    "};\n",
    "\n",
    "// Suffix array\n",
    "SuffixNode suffixArray[MAXL];\n",
    "\n",
    "// Number of steps or powers of 2 and length of the string\n",
    "int currentStep, stringLength;\n",
    "\n",
    "// Compare function to compare two SuffixNodes\n",
    "bool compareSuffixNodes(const SuffixNode& a, const SuffixNode& b) {\n",
    "  return a.ranks[0] == b.ranks[0] ? (a.ranks[1] < b.ranks[1])\n",
    "                                  : (a.ranks[0] < b.ranks[0]);\n",
    "}\n",
    "\n",
    "/* The function starts by initializing the first level of stringLevels with the\n",
    " * ASCII values of the characters in the input string. It then enters a loop\n",
    " * that constructs the suffix array using the prefix doubling algorithm. This\n",
    " * algorithm involves sorting the suffixes based on their ranks at each step.\n",
    " * For each suffix, it calculates two ranks: one based on the characters at the\n",
    " * current position and another based on the characters after moving to the next\n",
    " * level (doubling the step size). After sorting the suffixes, it updates the\n",
    " * ranks for the current level and stores these ranks in stringLevels. The loop\n",
    " * continues until reaching the power of 2 larger than the string length.*/\n",
    "void SA(const std::string& inputString) {\n",
    "  // Initialize the first level with the ASCII values of the characters in the\n",
    "  // string\n",
    "  for (size_t i = 0; i < inputString.length(); i++)\n",
    "    stringLevels[0][i] = inputString[i];\n",
    "\n",
    "  // Loop until we reach the power of 2 larger than the string length\n",
    "  currentStep = 1;\n",
    "  stringLength = inputString.length();\n",
    "\n",
    "  for (int step = 1; (1 << (step - 1)) < stringLength; step++, currentStep++) {\n",
    "    // Loop over all suffixes\n",
    "    for (int j = 0; j < stringLength; j++) {\n",
    "      // First half will be the first rank the one which we have already sorted\n",
    "      suffixArray[j].ranks[0] = stringLevels[currentStep - 1][j];\n",
    "\n",
    "      // Next half will be second rank and other suffix which we have already\n",
    "      // sorted in previous step for this k = 4, 2 and 2 length strings are\n",
    "      // already sorted\n",
    "      int nextHalfIndex = j + (1 << (step - 1));\n",
    "      suffixArray[j].ranks[1] =\n",
    "          (nextHalfIndex < stringLength)\n",
    "              ? stringLevels[currentStep - 1][nextHalfIndex]\n",
    "              : -1;\n",
    "\n",
    "      // Store the current index as it will change after sorting\n",
    "      suffixArray[j].index = j;\n",
    "    }\n",
    "\n",
    "    // Sort the suffix array based on ranks\n",
    "    std::sort(suffixArray, suffixArray + stringLength, compareSuffixNodes);\n",
    "\n",
    "    // Add new ranks of this level to each suffix\n",
    "    for (int j = 0; j < stringLength; j++) {\n",
    "      int prevIndex = suffixArray[j].index;\n",
    "      int prevRank1 = suffixArray[j].ranks[0];\n",
    "      int prevRank2 = suffixArray[j].ranks[1];\n",
    "\n",
    "      int prevRankIndex = (j > 0) ? suffixArray[j - 1].index : -1;\n",
    "      int prevRank1Prev = (j > 0) ? suffixArray[j - 1].ranks[0] : -1;\n",
    "      int prevRank2Prev = (j > 0) ? suffixArray[j - 1].ranks[1] : -1;\n",
    "\n",
    "      // If the current suffix has same rank as previous one then do not\n",
    "      // increase its rank Else increase it or make it equal to current j.\n",
    "      stringLevels[currentStep][prevIndex] =\n",
    "          (step > 0 &&\n",
    "           (prevRank1 == prevRank1Prev && prevRank2 == prevRank2Prev))\n",
    "              ? stringLevels[currentStep][prevRankIndex]\n",
    "              : j;\n",
    "    }\n",
    "  }\n",
    "}\n",
    "\n",
    "/* The LCP function calculates the longest common prefix between two suffixes by\n",
    " * comparing their ranks in the stringLevels array. It iteratively checks if the\n",
    " * prefixes at each level (from highest to lowest power of 2) are equal and\n",
    " * increases the length of the common prefix accordingly. */\n",
    "int LCP(int x, int y) {\n",
    "  // if both are less than x return\n",
    "  if (x < 0 || y < 0)\n",
    "    return 0;\n",
    "\n",
    "  // Loop until the power becomes 0 or numbers become greater than length\n",
    "  // As extreme cases in search of binary search\n",
    "  int result = 0;\n",
    "  for (int k = currentStep - 1; k >= 0 && x < stringLength && y < stringLength;\n",
    "       k--) {\n",
    "    // If the prefixes at current power are equal\n",
    "    // Increase the x and y values after the equal\n",
    "    // prefixes. if they are at 0 and 0 and k is 4\n",
    "    // increase than to 4 and 4 as first 4 characters are equal\n",
    "    // According to level,now find the next 2 one if they are\n",
    "    // equal or not.\n",
    "    if (stringLevels[k][x] == stringLevels[k][y]) {\n",
    "      x += (1 << k);\n",
    "      y += (1 << k);\n",
    "      result += (1 << k);\n",
    "    }\n",
    "  }\n",
    "\n",
    "  return result;\n",
    "}\n",
    "\n",
    "/* The main function first reads the number of test cases.\n",
    " * For each test case, it reads an input string and initializes the data\n",
    " * structures. It then constructs the suffix array and computes the inverse of\n",
    " * the suffix array (i.e., a mapping from index to rank). After constructing the\n",
    " * suffix array and inverse, it calculates the total number of distinct\n",
    " * substrings. This is done by iterating through the suffixes in the sorted\n",
    " * order and subtracting the LCP of consecutive suffixes from the total string\n",
    " * length.\n",
    " * */\n",
    "int main() {\n",
    "  int numTestCases;\n",
    "  std::cin >> numTestCases;\n",
    "  std::vector<int> results;\n",
    "\n",
    "  std::string inputString;\n",
    "\n",
    "  double time_taken_sa = 0;\n",
    "  double time_taken_invd = 0;\n",
    "\n",
    "  auto start_total = clock();\n",
    "\n",
    "  while (numTestCases--) {\n",
    "    std::cin >> inputString;\n",
    "\n",
    "    // Initialize all variables\n",
    "    memset(stringLevels, 0, sizeof(stringLevels));\n",
    "    memset(suffixArray, 0, sizeof(suffixArray));\n",
    "    memset(inverseSuffixArray, 0, sizeof(inverseSuffixArray));\n",
    "\n",
    "    currentStep = 0;\n",
    "\n",
    "    auto start = clock();\n",
    "    // Find the suffix array\n",
    "    SA(inputString);\n",
    "    auto stop = clock() - start;\n",
    "    time_taken_sa += ((double)stop / CLOCKS_PER_SEC);\n",
    "\n",
    "    start = clock();\n",
    "    // Find the inverse of suffix array\n",
    "    for (int i = 0; i < stringLength; i++)\n",
    "      inverseSuffixArray[stringLevels[currentStep - 1][i]] = i;\n",
    "\n",
    "    // Find the lcp of consecutive suffixes as it will give how many characters\n",
    "    // can make distinct substring.\n",
    "    int totalDistinctSubstrings = stringLength - suffixArray[0].index;\n",
    "    for (int i = 1; i < stringLength; i++) {\n",
    "      // Subtract from total length of current suffix the lcp of this and\n",
    "      // previous one\n",
    "      totalDistinctSubstrings +=\n",
    "          (stringLength - suffixArray[i].index) -\n",
    "          LCP(inverseSuffixArray[i - 1], inverseSuffixArray[i]);\n",
    "    }\n",
    "    stop = clock() - start;\n",
    "    time_taken_invd += ((double)stop / CLOCKS_PER_SEC);\n",
    "\n",
    "    results.emplace_back(totalDistinctSubstrings);\n",
    "  }\n",
    "\n",
    "  for (auto& result : results) {\n",
    "    std::cout << result << std::endl;\n",
    "  }\n",
    "\n",
    "  auto stop_total = clock() - start_total;\n",
    "  double total_time = ((double)stop_total) / CLOCKS_PER_SEC;\n",
    "\n",
    "  std::cout << std::fixed;\n",
    "\n",
    "  std::cout << \"Time to construct SA: \" << time_taken_sa << \" s\" << std::endl;\n",
    "  std::cout << \"Time to find inverse SA and total distinct substrings: \"\n",
    "            << time_taken_invd << \" s\" << std::endl;\n",
    "  std::cout << \"Total execution time: \" << total_time << \" s\" << std::endl;\n",
    "\n",
    "  return 0;\n",
    "}\n",
    "\n",
    "```\n",
    "\n"
   ]
  },
  {
   "cell_type": "code",
   "execution_count": null,
   "metadata": {
    "colab": {
     "base_uri": "https://localhost:8080/"
    },
    "id": "TwIIllivvdh5",
    "outputId": "beedd017-511b-420a-c0b9-195bd5d844db"
   },
   "outputs": [
    {
     "name": "stdout",
     "output_type": "stream",
     "text": [
      "rm -rf disubstr.out\n",
      " *  Compiling\n",
      "g++ disubstr.cpp -o disubstr.out -std=c++17 -O3 -Wall\n",
      " *  Created on: 15/10/23\n",
      " *  Author: Aksoy Tevfik Oguzhan\n"
     ]
    }
   ],
   "source": [
    "!make"
   ]
  },
  {
   "cell_type": "code",
   "execution_count": null,
   "metadata": {
    "colab": {
     "base_uri": "https://localhost:8080/"
    },
    "id": "iXx9EoiNvnjo",
    "outputId": "19731cf0-e610-4149-9414-f873d81de9fd"
   },
   "outputs": [
    {
     "name": "stdout",
     "output_type": "stream",
     "text": [
      "./disubstr.out\n",
      "2\n",
      "CCCCC\n",
      "ABABA\n",
      "5\n",
      "9\n",
      "Time to construct SA: 0.000007 s\n",
      "Time to find inverse SA and total distinct substrings: 0.000002 s\n",
      "Total execution time: 0.000264 s\n"
     ]
    }
   ],
   "source": [
    "!make run"
   ]
  },
  {
   "cell_type": "markdown",
   "metadata": {
    "id": "foZMJxUIWczY"
   },
   "source": [
    "The most time-consuming part of the code is the construction of the suffix array using the SA function, which was discussed together with LCP throughout the lab. The time complexity of constructing the suffix array is approximately $O(N * log^2(N))$, where N is the length of the input string. This is because constructing the SA involves nested loops, and it iterates $log(N)$ times, each time performing comparisons and updates that are linear in the length of the string.\n",
    "\n",
    "In the main driver function, there is a loop over test cases, which adds a factor of $T$ (number of test cases).\n",
    "\n",
    "The time complexity of the entire code is $O(T * N * log^2(N))$, where T is the number of test cases and N is the length of the longest input string among all test cases.\n",
    "\n",
    "In summary, the code constructs the suffix array for a given string and uses it to calculate the total number of distinct substrings. The time complexity is $O(T * N * log^2(N))$, where T is the number of test cases, and $N$ is the length of the input string."
   ]
  },
  {
   "cell_type": "markdown",
   "metadata": {
    "id": "EFgrUHPWTc6D"
   },
   "source": [
    "\n",
    "### Problem 4 (2 points)\n",
    "Suppose that we want to distribute $N$ personal projects to $N$ students. Assume that each student $(k)_{k=0}^{N-1}$ has a list of his/her preferences for the projects, expressed as a vector $\\mathbf r_k$ of integer ranks assigned to each project. Ranks vary between 0 and $N-1$ without repetitions, the **lower** the rank the **more preferable** the project. (For example, the first student's ranks are $\\mathbf r_0 = [2,1,0]$, the second's $\\mathbf r_1 = [0,2,1]$ and the third $\\mathbf r_2 = [0,1,2]$). We want to distribute the projects so as to maximize the total preference, i.e., if $n_k$ denotes the project assigned to the $k$'th student, we want to make $f = \\sum_{k=0}^{N-1} \\mathbf r_k[n_k]$ as small as possible. (In the example above the optimal distribution is $n_0=2, n_1=0, n_2=1$, which gives $f=1$).  \n",
    "  * Come up with an algorithm optimizing the distribution and implement it in a Python or C/C++ program. The algorithm should accept the preference vectors and output a recommended distribution $(n_k)_{k=1}^N$. The algorithm need not find the best solution, but is expected to generally produce better solutions than would have been obtained by randomly distributing the projects. The algorithm should be reasonably fast, say run in not more than a few seconds for $N=30$.\n",
    "  * Compare experimentally your algorithm with the trivial algorithm producing a random distribution. To this end, perform $M=1000$ experiments in each of which 1) random preference vectors for $N=30$ students and projects are generated; 2) the objective function $f$ is evaluated for both algorithms. After finishing all the experiments, plot the two respective distributions of the obtained $M$ values of $f$ and compute the mean values of $f$ for both algorithms.\n"
   ]
  },
  {
   "cell_type": "code",
   "execution_count": null,
   "metadata": {
    "colab": {
     "base_uri": "https://localhost:8080/",
     "height": 553
    },
    "id": "mc29KvE9yf9C",
    "outputId": "352ae77d-313f-4499-a7ba-fc4f44c7cee4"
   },
   "outputs": [
    {
     "name": "stdout",
     "output_type": "stream",
     "text": [
      "N: 30\n",
      "The total cost of the distribution is 23\n",
      "Time elapsed for 1 iteration: 0.01387119 s.\n",
      "Total time elapsed: 10.969528913497925 s.\n",
      "Mean recommended: 13.346\n",
      "Mean random: 434.435\n"
     ]
    },
    {
     "data": {
      "image/png": "[encoded data removed]",
      "text/plain": [
       "<Figure size 640x480 with 1 Axes>"
      ]
     },
     "metadata": {},
     "output_type": "display_data"
    }
   ],
   "source": [
    "import numpy as np\n",
    "import sys\n",
    "import time\n",
    "import random\n",
    "import matplotlib.pyplot as plt\n",
    "from copy import copy, deepcopy\n",
    "\n",
    "M = 1000\n",
    "recommended_costs = np.zeros(M, dtype=int)\n",
    "random_costs = np.zeros(M, dtype=int)\n",
    "\n",
    "# Define a function to take input preferences for student-project assignments\n",
    "def take_input():\n",
    "    preferences = []  # Initialize an empty list to store preferences\n",
    "\n",
    "    try:\n",
    "      # Sys args input doesn't work in colab, in order to run, please copy everything to a new file\n",
    "      # and uncomment necessary parts\n",
    "        #N = int(sys.argv[1])  # Try to read the first command-line argument as the number of students or projects\n",
    "        N = int(input(\"N: \"))\n",
    "        preferences = np.asarray([np.random.choice(np.arange(0, N), replace=False, size=(N)) for _ in range(N)])\n",
    "        # Generate a random preferences matrix based on the given number\n",
    "        assert preferences.shape == (N, N), \"Preferences matrix is wrong!\"  # Check if the matrix is square\n",
    "    except:\n",
    "      pass\n",
    "    \"\"\"\n",
    "    except IndexError:\n",
    "        print(\"Enter one argument (either a number to randomly generate preferences or a .txt file)\")\n",
    "        # If no command-line argument is provided, print an error message and exit\n",
    "        exit(1)\n",
    "    except ValueError:\n",
    "        file = sys.argv[1]  # Read the first command-line argument as a file name\n",
    "        with open(file, \"r\") as f:\n",
    "            # Open the file for reading\n",
    "            preferences = np.asarray([[int(i) for i in j.replace(\"\\n\", \"\").split(\",\")] for j in f.readlines()])\n",
    "            # Read preferences from the file and convert them to a NumPy array\n",
    "\n",
    "            assert preferences.shape[0] == preferences.shape[1], \"Preferences matrix must be square!\"\n",
    "    \"\"\"\n",
    "        # Check if the matrix read from the file is square\n",
    "\n",
    "    return preferences.shape[0], preferences  # Return the size (N) and the preferences matrix\n",
    "\n",
    "\n",
    "def mark_matrix(mat):\n",
    "    current_matrix = mat  # Make a copy of the input matrix\n",
    "    zero_bool_mat = (current_matrix == 0)  # Create a boolean matrix to identify zeros\n",
    "    zero_bool_mat_copy = zero_bool_mat.copy()  # Create a copy of the boolean matrix\n",
    "\n",
    "    marked_zero = []  # List to store coordinates of marked zeros\n",
    "    while (True in zero_bool_mat_copy):  # Continue until there are unmarked zeros\n",
    "        min_row = [99999, -1]  # Initialize variables to track the minimum row\n",
    "\n",
    "        for row_num in range(zero_bool_mat_copy.shape[0]):\n",
    "            if np.sum(zero_bool_mat_copy[row_num] == True) > 0 and min_row[0] > np.sum(zero_bool_mat_copy[row_num] == True):\n",
    "                # Find the row with the fewest unmarked zeros\n",
    "                min_row = [np.sum(zero_bool_mat_copy[row_num] == True), row_num]\n",
    "\n",
    "        zero_index = np.where(zero_bool_mat_copy[min_row[1]] == True)[0][0]  # Find the first unmarked zero in the row\n",
    "        marked_zero.append((min_row[1], zero_index))  # Mark the row and column of the zero\n",
    "        zero_bool_mat_copy[min_row[1], :] = False  # Mark the row as processed\n",
    "        zero_bool_mat_copy[:, zero_index] = False  # Mark the column as processed\n",
    "\n",
    "    marked_zero_row = []  # List to store row indexes with marked zeros\n",
    "    marked_zero_col = []  # List to store column indexes with marked zeros\n",
    "    for i in range(len(marked_zero)):\n",
    "        marked_zero_row.append(marked_zero[i][0])\n",
    "        marked_zero_col.append(marked_zero[i][1])\n",
    "\n",
    "    non_marked_row = list(set(range(current_matrix.shape[0])) - set(marked_zero_row))\n",
    "    # Find rows without marked zeros\n",
    "\n",
    "    marked_cols = []  # List to store column indexes with marked zeros\n",
    "    check_switch = True\n",
    "    while check_switch:\n",
    "        check_switch = False\n",
    "        for i in range(len(non_marked_row)):\n",
    "            row_array = zero_bool_mat[non_marked_row[i], :]\n",
    "            for j in range(row_array.shape[0]):\n",
    "                if row_array[j] == True and j not in marked_cols:\n",
    "                    marked_cols.append(j)\n",
    "                    check_switch = True\n",
    "\n",
    "        for row_num, col_num in marked_zero:\n",
    "            if row_num not in non_marked_row and col_num in marked_cols:\n",
    "                non_marked_row.append(row_num)\n",
    "                check_switch = True\n",
    "\n",
    "    marked_rows = list(set(range(mat.shape[0])) - set(non_marked_row))\n",
    "    # Find rows with marked zeros\n",
    "\n",
    "    return (marked_zero, marked_rows, marked_cols)  # Return marked zeros, marked rows, and marked columns\n",
    "\n",
    "\n",
    "def step(mat):\n",
    "    for row_num in range(mat.shape[0]):\n",
    "        mat[row_num] = mat[row_num] - np.min(mat[row_num])\n",
    "    # Subtract the minimum value of each row from the entire row\n",
    "\n",
    "    for col_num in range(mat.shape[1]):\n",
    "        mat[:, col_num] = mat[:, col_num] - np.min(mat[:, col_num])\n",
    "    # Subtract the minimum value of each column from the entire column\n",
    "\n",
    "    return mat  # Return the matrix after performing the step\n",
    "\n",
    "\n",
    "def set_matrix(mat, cover_rows, cover_cols):\n",
    "    current_matrix = mat\n",
    "    non_zero_element = []\n",
    "\n",
    "    # Collect non-zero elements not covered by marked rows or columns\n",
    "    for row in range(len(current_matrix)):\n",
    "        if row not in cover_rows:\n",
    "            for i in range(len(current_matrix[row])):\n",
    "                if i not in cover_cols:\n",
    "                    non_zero_element.append(current_matrix[row][i])\n",
    "\n",
    "    min_num = min(non_zero_element)\n",
    "\n",
    "    # Subtract the minimum non-zero element from uncovered elements in rows\n",
    "    for row in range(len(current_matrix)):\n",
    "        if row not in cover_rows:\n",
    "            for i in range(len(current_matrix[row])):\n",
    "                if i not in cover_cols:\n",
    "                    current_matrix[row, i] = current_matrix[row, i] - min_num\n",
    "\n",
    "    # Add the minimum non-zero element to covered elements in rows and columns\n",
    "    for row in range(len(cover_rows)):\n",
    "        for col in range(len(cover_cols)):\n",
    "            current_matrix[cover_rows[row], cover_cols[col]] = current_matrix[cover_rows[row], cover_cols[col]] + min_num\n",
    "\n",
    "    return current_matrix\n",
    "\n",
    "def student_project_distribution(cost_matrix):\n",
    "    n = cost_matrix.shape[0]\n",
    "    current_matrix = deepcopy(cost_matrix)\n",
    "\n",
    "    current_matrix = step(current_matrix)\n",
    "\n",
    "    count_zero_lines = 0\n",
    "\n",
    "    # Continue marking rows and columns until all rows or columns have zeros\n",
    "    while count_zero_lines < n:\n",
    "        ans_pos, marked_rows, marked_cols = mark_matrix(current_matrix)\n",
    "        count_zero_lines = len(marked_rows) + len(marked_cols)\n",
    "\n",
    "        # Set the matrix to cover marked rows and columns\n",
    "        if count_zero_lines < n:\n",
    "            current_matrix = set_matrix(current_matrix, marked_rows, marked_cols)\n",
    "\n",
    "        return ans_pos\n",
    "\n",
    "\n",
    "def plot(*args):\n",
    "    plt.hist(recommended_costs, bins=100, alpha=0.5, label='Recommended')\n",
    "    plt.hist(random_costs, bins=100, alpha=0.5, label='Random')\n",
    "    plt.xlabel('Values')\n",
    "    plt.ylabel('Frequency')\n",
    "    plt.legend()\n",
    "    plt.show()\n",
    "\n",
    "\n",
    "N, preferences = take_input()\n",
    "\n",
    "start_all = time.time()\n",
    "\n",
    "for i in range(M):\n",
    "    if i == 0: start = time.time()\n",
    "    distribution = student_project_distribution(preferences)\n",
    "    if i == 0:\n",
    "        end = time.time()\n",
    "        if preferences.shape[0] < 15:\n",
    "          print(preferences)\n",
    "\n",
    "    total = 0\n",
    "    for val in distribution:\n",
    "        if i == 0 and preferences.shape[0] < 15: print(f\"Student {val[0]+1} is assigned to Project #{val[1]+1}.\")\n",
    "        total += preferences[val[0], val[1]]\n",
    "\n",
    "    recommended_costs[i] = total\n",
    "\n",
    "    for j in range(N):\n",
    "        np.random.shuffle(preferences[j])\n",
    "\n",
    "    if i == 0: print(f\"The total cost of the distribution is {total}\")\n",
    "    if i == 0: print(f\"Time elapsed for 1 iteration: {end-start:.8f} s.\")\n",
    "\n",
    "    tmp_preferences = copy(preferences)\n",
    "\n",
    "    for j in range(N):\n",
    "        col = random.randint(0, tmp_preferences.shape[1]-1)\n",
    "        random_costs[i] += tmp_preferences[j][col]\n",
    "        tmp_preferences = np.delete(tmp_preferences, col, 1)\n",
    "\n",
    "print(f\"Total time elapsed: {time.time() - start_all} s.\")\n",
    "\n",
    "mean_rec = recommended_costs.mean()\n",
    "mean_ran = random_costs.mean()\n",
    "\n",
    "print(f\"Mean recommended: {mean_rec}\")\n",
    "print(f\"Mean random: {mean_ran}\")\n",
    "\n",
    "plot(recommended_costs, random_costs)"
   ]
  },
  {
   "cell_type": "markdown",
   "metadata": {
    "id": "R4wNCJZ7Tc6E"
   },
   "source": [
    "  \n",
    "### Problem 5 (2 points)\n",
    "Suppose that we have developed an algorithm that is supposed to generate independent (quasi-)random numbers uniformly distributed in the interval $[0,1]$. To test our algorithm, we perform a series of experiments. In each experiment, we generate $N=10^3$ numbers $(x_n)_{n=1}^N$ with our algorithm, and compute the minimum distance $r=\\min_{1 \\le n < m\\le N}|x_n-x_m|$ between them. We observe that in more than 99% of such experiments we obtain $r < 10^{-5}$. Does this observation contradict the hypothesis of generating independent uniformly distributed random numbers? Explain your answer."
   ]
  },
  {
   "cell_type": "code",
   "execution_count": 44,
   "metadata": {
    "colab": {
     "base_uri": "https://localhost:8080/"
    },
    "id": "GaL5-aKL3wLl",
    "outputId": "520f28c1-deee-4acf-a3a2-a08ba12871f4"
   },
   "outputs": [
    {
     "name": "stdout",
     "output_type": "stream",
     "text": [
      "In 100000 experiments, the mean minimum distance (r) is: 9.97844207769748e-07\n",
      "Total time the experiment took: 43.10380005836487 s.\n"
     ]
    }
   ],
   "source": [
    "import random, time\n",
    "\n",
    "def rng(N):\n",
    "    random_numbers = [random.random() for _ in range(N)]\n",
    "    return random_numbers\n",
    "\n",
    "def find_r(random_numbers):\n",
    "    random_numbers.sort()\n",
    "    min_distance = min(random_numbers[i+1] - random_numbers[i] for i in range(len(random_numbers) - 1))\n",
    "    return min_distance\n",
    "\n",
    "M = 100000\n",
    "total = 0\n",
    "start = time.time()\n",
    "for _ in range(M):\n",
    "  N = 1000\n",
    "  random_numbers = rng(N)\n",
    "  min_distance = find_r(random_numbers)\n",
    "  total += min_distance\n",
    "\n",
    "print(f\"In {M} experiments, the mean minimum distance (r) is: {total/M}\")\n",
    "print(f\"Total time the experiment took: {time.time() - start} s.\")"
   ]
  },
  {
   "cell_type": "markdown",
   "metadata": {
    "id": "-NuytPsr43BD"
   },
   "source": [
    "No, the observation that in more than 99% of experiments we obtain a minimum distance between randomly generated numbers less than $10^{-5}$ does not contradict the hypothesis of generating independent uniformly distributed random numbers. In fact, it is consistent with the properties of random numbers.\n",
    "\n",
    "Considering $N=10^3$, the probability of two randomly generated numbers being very close to each other ($|x_n - x_m| < 10^{-5}$ for some $n < m$) is not negligible, even if the numbers are generated independently and uniformly.\n",
    "\n",
    "The probability of two random numbers being very close to each other ($|x_n - x_m| < 10^{-5}$) in a sequence of $N$ random numbers can be calculated by considering the total number of ways we can choose two numbers from $N$ and the number of ways we can choose two numbers such that their difference is less than $10^{-5}$.\n",
    "\n",
    "$P(|x_n - x_m| < 10^{-5}) = \\frac{\\text{Number of ways to choose two close numbers}}{\\text{Total number of ways to choose two numbers}}$\n",
    "\n",
    "Calculation of choosing two close numbers can be done by integrating the uniform probability density function. And total number of ways to choose two numbers is basically ${n \\choose 2}$."
   ]
  },
  {
   "cell_type": "code",
   "execution_count": null,
   "metadata": {
    "id": "sUzrORZ05zKv"
   },
   "outputs": [],
   "source": []
  }
 ],
 "metadata": {
  "colab": {
   "provenance": []
  },
  "kernelspec": {
   "display_name": "Python 3 (ipykernel)",
   "language": "python",
   "name": "python3"
  },
  "language_info": {
   "codemirror_mode": {
    "name": "ipython",
    "version": 3
   },
   "file_extension": ".py",
   "mimetype": "text/x-python",
   "name": "python",
   "nbconvert_exporter": "python",
   "pygments_lexer": "ipython3",
   "version": "3.11.4"
  }
 },
 "nbformat": 4,
 "nbformat_minor": 4
}
