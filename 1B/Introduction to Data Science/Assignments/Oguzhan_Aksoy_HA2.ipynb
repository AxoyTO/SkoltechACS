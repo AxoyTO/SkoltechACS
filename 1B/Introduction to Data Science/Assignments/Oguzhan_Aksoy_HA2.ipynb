{
  "nbformat": 4,
  "nbformat_minor": 0,
  "metadata": {
    "kernelspec": {
      "display_name": "Python 3",
      "language": "python",
      "name": "python3"
    },
    "language_info": {
      "codemirror_mode": {
        "name": "ipython",
        "version": 3
      },
      "file_extension": ".py",
      "mimetype": "text/x-python",
      "name": "python",
      "nbconvert_exporter": "python",
      "pygments_lexer": "ipython3",
      "version": "3.7.3"
    },
    "colab": {
      "provenance": []
    }
  },
  "cells": [
    {
      "cell_type": "markdown",
      "metadata": {
        "id": "5XDBefNIgZE7"
      },
      "source": [
        "## Scientific Computing 2023: Homework Assignment 2\n",
        "Due Sunday October 22, 2023 (23:59)\n",
        "\n",
        "### Problem 1 (2 points)\n",
        "Let $A_q=\\left(\\begin{matrix}1 & q\\\\ 0 & 1\\end{matrix}\\right)$ with $q\\in\\mathbb R$.\n",
        "* For any $q$, find condition number $\\kappa(A_q)$ with respect to the $l^2$-norm.\n",
        "* Give an example of specific values of $q,\\mathbf b, \\Delta\\mathbf b$ such that, when solving $A_q\\mathbf x = \\mathbf b$ and $A_q(\\mathbf x+\\Delta \\mathbf x)=\\mathbf b +\\Delta\\mathbf b$, we get\n",
        "\n",
        "$$\\frac{\\|\\Delta \\mathbf x\\|}{\\|\\mathbf x\\|}\\ge 10^6\\frac{\\|\\Delta\\mathbf b\\|}{\\|\\mathbf b\\|}.$$"
      ]
    },
    {
      "cell_type": "markdown",
      "source": [
        "### Answer 1"
      ],
      "metadata": {
        "id": "LQB0eDLyVZ5n"
      }
    },
    {
      "cell_type": "markdown",
      "source": [
        "* If $\\|\\cdot\\|$ is the $l^2$-norm and $A$ is arbitrary, then\n",
        "\n",
        "$$\\kappa(A)=\\sqrt{\\frac{\\lambda_{\\max}(A^*A)}{\\lambda_{\\min}(A^*A)}}$$\n",
        "\n",
        "$A^* A = \\left(\\begin{matrix}1 & 0\\\\ q & 1\\end{matrix}\\right) \\left(\\begin{matrix}1 & q\\\\ 0 & 1\\end{matrix}\\right) = \\left(\\begin{matrix}1 & q\\\\ q & q^2 + 1\\end{matrix}\\right)$.\n",
        "\n",
        "In order to obtain $\\lambda_i$, we need to solve next equation: $$det(A^*A -\\lambda I) = det\\left(\\begin{matrix}1 -\\lambda& q\\\\ q & q^2 + 1-\\lambda\\end{matrix}\\right) = 0$$\n",
        "\n",
        "\n",
        "\n",
        "$$ 4q^2+1- \\lambda -\\lambda q^2 -\\lambda+ \\lambda^2 -q^2 = 0$$\n",
        "\n",
        "$$ \\lambda^2 - \\lambda(2+q^2) +1 =0 $$\n",
        "\n",
        "Then we obtain the eigenvalues: $\\lambda_{max,min} = \\frac{1}{2} (2+q^2 \\pm \\sqrt{q^4+4q^2})$.\n",
        "So the condition number with respect to the $l^2$-norm:\n",
        "\n",
        "$$\\kappa(A_q) =\\sqrt{\\frac{\\lambda_{\\max}(A^*A)}{\\lambda_{\\min}(A^*A)}} =  \\sqrt{\\frac{2+q^2 + \\sqrt{q^4 + 4q^2}}{2+q^2 -\\sqrt{q^4 + 4q^2}}}$$\n",
        "\n",
        "* Let the values be as follows:\n",
        "\n",
        "$\\mathbf b =  \\left(\\begin{matrix}10^7 & 1\\end{matrix}\\right)^T$,\n",
        "\n",
        "$\\Delta\\mathbf b =  \\left(\\begin{matrix}10^8 & 10^9\\end{matrix}\\right)^T$,\n",
        "\n",
        "$q = 10^{10} $\n",
        "\n",
        "Let's calculate $\\frac{\\|\\Delta \\mathbf{x}\\|}{\\|\\mathbf{x}\\|}/\\frac{\\|\\Delta \\mathbf{b}\\|}{\\|\\mathbf{b}\\|}$ and compare it with $10^6$:\n"
      ],
      "metadata": {
        "id": "UqT3I-qHVTC-"
      }
    },
    {
      "cell_type": "code",
      "source": [
        "import numpy as np\n",
        "\n",
        "q = 10**10\n",
        "A = np.array([[1,q],[0,1]])\n",
        "b = np.array([10**7,1])\n",
        "d_b = np.array([10**8,10**9])\n",
        "\n",
        "x_norm = np.linalg.norm(np.dot(np.linalg.inv(A), b))\n",
        "d_x_norm = np.linalg.norm(np.dot(np.linalg.inv(A), d_b))\n",
        "b_norm = np.linalg.norm(b)\n",
        "d_b_norm =np.linalg.norm(d_b)\n",
        "\n",
        "#lets calculate the fraction of fractions of norms to compare it with 10^6\n",
        "fraction = (d_x_norm/x_norm) / (d_b_norm/b_norm)\n",
        "\n",
        "\n",
        "print(f'{fraction:.2e} is greater than 10^6, so considered parameters b, d_b and q satisfy the task.')"
      ],
      "metadata": {
        "colab": {
          "base_uri": "https://localhost:8080/"
        },
        "id": "b4iGeQ0jVR8q",
        "outputId": "9479728a-9088-44ff-865a-02dbf12dfebc"
      },
      "execution_count": 32,
      "outputs": [
        {
          "output_type": "stream",
          "name": "stdout",
          "text": [
            "9.96e+06 is greater than 10^6, so considered parameters b, d_b and q satisfy the task.\n"
          ]
        }
      ]
    },
    {
      "cell_type": "markdown",
      "metadata": {
        "id": "6jKRLB72gZFE"
      },
      "source": [
        "### Problem 2 (2 points)\n",
        "* Write a program to compute an approximate value for the derivative of a function using the finite-difference formula\n",
        "\n",
        "  $$f'(x)\\approx \\frac{f(x+h)-f(x)}{h}.$$\n",
        "\n",
        "  Test your program using the function $\\tan(x)$ at $x=1$. Determine the error by comparing with the value obtained using the analytic derivative. Plot the magnitude of the error as a function of $h$, for $h=10^{-k}, k=0,\\ldots,16$. You should use log scale for $h$ and for the magnitude of the error. What is the minimum value of the error and at which $h$ is it achieved? Explain this result theoretically.\n",
        "* Repeat the exercise using the centered difference approximation\n",
        "\n",
        " $$f'(x)\\approx \\frac{f(x+h)-f(x-h)}{2h}.$$\n",
        "\n",
        " What is now different and why?"
      ]
    },
    {
      "cell_type": "markdown",
      "source": [
        "### Answer 2"
      ],
      "metadata": {
        "id": "qAReavS4V1CA"
      }
    },
    {
      "cell_type": "code",
      "source": [
        "import matplotlib.pyplot as plt\n",
        "\n",
        "def tan_derivative(x):\n",
        "    return 1/(np.cos(x))**2\n",
        "\n",
        "def finite_difference(f, x, h):\n",
        "    return (f(x + h) - f(x))/h\n",
        "\n",
        "def centered_difference(f, x, h):\n",
        "    return (f(x + h) - f(x - h))/(2 *h)\n",
        "\n",
        "h_list = []\n",
        "er_finite = []\n",
        "\n",
        "for k in range(17):\n",
        "    h_list.append(10**(-k))\n",
        "    er_finite.append(np.abs(finite_difference(np.tan, 1, h_list[k]) - tan_derivative(1)))\n",
        "\n",
        "fig = plt.figure(figsize=[7,3])\n",
        "plt.scatter(h_list, er_finite, color = 'black')\n",
        "plt.xlabel('h')\n",
        "plt.ylabel('er')\n",
        "plt.gca().set_xscale('log')\n",
        "plt.gca().set_yscale('log');\n",
        "\n",
        "print(f' Min error: {min(er_finite).round(11)}, h of min error: {h_list[er_finite.index(min(er_finite))]}.')"
      ],
      "metadata": {
        "colab": {
          "base_uri": "https://localhost:8080/",
          "height": 333
        },
        "id": "13aHY4vBWBYB",
        "outputId": "c16e96be-6416-4488-ff63-66f4485d6651"
      },
      "execution_count": 33,
      "outputs": [
        {
          "output_type": "stream",
          "name": "stdout",
          "text": [
            " Min error: 2.554e-08, h of min error: 1e-08.\n"
          ]
        },
        {
          "output_type": "display_data",
          "data": {
            "text/plain": [
              "<Figure size 700x300 with 1 Axes>"
            ],
            "image/png": "[encoded data removed]"
          },
          "metadata": {}
        }
      ]
    },
    {
      "cell_type": "markdown",
      "source": [
        "In addition to approximation errors, which increase with increasing step h, rounding errors occur, which, on the contrary, increase with decreasing grid step (i.e., with increasing number of steps).\n"
      ],
      "metadata": {
        "id": "MSKmf4-kHkVp"
      }
    },
    {
      "cell_type": "code",
      "source": [
        "# Lets use centered difference approximation instead of finite-difference\n",
        "\n",
        "h_list = []\n",
        "er_cent = []\n",
        "\n",
        "for k in range(17):\n",
        "    h_list.append(10**(-k))\n",
        "    er_cent.append(np.abs(centered_difference(np.tan, 1, h_list[k]) - tan_derivative(1)))\n",
        "\n",
        "fig = plt.figure(figsize=[7,3])\n",
        "plt.scatter(h_list, er_cent)\n",
        "plt.xlabel('h')\n",
        "plt.ylabel('er')\n",
        "plt.gca().set_xscale('log')\n",
        "plt.gca().set_yscale('log');\n",
        "\n",
        "print(f' Min error: {min(er_cent).round(15)}, h of min error: {h_list[er_cent.index(min(er_cent))]}.')"
      ],
      "metadata": {
        "colab": {
          "base_uri": "https://localhost:8080/",
          "height": 332
        },
        "id": "lxyHA2TbHlDI",
        "outputId": "70a12f88-902a-46a5-ed4b-64626d0e912f"
      },
      "execution_count": 34,
      "outputs": [
        {
          "output_type": "stream",
          "name": "stdout",
          "text": [
            " Min error: 6.224e-12, h of min error: 1e-07.\n"
          ]
        },
        {
          "output_type": "display_data",
          "data": {
            "text/plain": [
              "<Figure size 700x300 with 1 Axes>"
            ],
            "image/png": "[encoded data removed]"
          },
          "metadata": {}
        }
      ]
    },
    {
      "cell_type": "markdown",
      "source": [
        "\n",
        "Let's explain results theoretically.\n",
        "Since $\\tilde f (x + h) = f (x + h) + \\varepsilon_1$ and $\\tilde f (x − h) = f (x − h) + \\varepsilon_2$, where $|\\varepsilon_1|$,|$\\varepsilon_2$| ≈\n",
        "$\\varepsilon_r,$ where $\\varepsilon_r$ represents machine epsilon; the difference between the correct f(x) and the machine version of the\n",
        "finite-difference formula:\n",
        "\n",
        "$$f'_{correct}(x) - {f'}_{machine} (x) = f'(x) - \\dfrac{\\tilde{f}(x+h) -\\tilde{f}(x)}{h} = f'(x) - \\dfrac{f(x+h) + \\varepsilon_1 - f(x) - \\varepsilon_2}{h} =$$\n",
        "\n",
        "$$=f'(x) - \\dfrac{f(x+h) - f(x)}{h} + \\dfrac{\\varepsilon_2 - \\varepsilon_1}{h} = \\text{[apply Taylor Series for  $f(x+h)$, c $\\in [x, x+h]$]} =\\\\\n",
        "= -\\dfrac{h}{2} f''(c) + \\dfrac{\\varepsilon_2 - \\varepsilon_1}{h} $$\n",
        "\n",
        "$$\\left|\\dfrac{\\varepsilon_2 - \\varepsilon_1}{h}\\right| \\leq\\dfrac{2 \\varepsilon_r}{h}$$\n",
        "\n",
        "Then absolute value of error: $Er(h)\\equiv  \\dfrac{h}{2} |f''(c)| + \\dfrac{2 \\varepsilon_r}{h}$\n",
        "\n",
        "Let's differentiate $Er(h)$ in order to obtain its minimum: $$\\frac{dEr(h)}{dh} = \\dfrac{\\left|f''(c)\\right|}{2} - \\dfrac{2 \\varepsilon_r}{h^2} = 0,$$\n",
        "\n",
        "$$h_0 = 2 \\sqrt{\\dfrac{\\varepsilon_r}{\\left|f''(c)\\right|}}=[f(x)=tan (x)] \\approx 9.124 \\cdot 10^{-9}.$$\n",
        "\n",
        "$$Er(h_0) \\approx 9.735 \\cdot 10^{-8}.$$\n",
        "\n",
        "Similarly for centered difference formula we get:\n",
        "\n",
        "$Er(h)\\equiv  \\dfrac{h^2}{6} |f'''(c)| + \\dfrac{\\varepsilon_r}{h}$, $c \\in [x-h,x+h]$\n",
        "\n",
        "Let's differentiate $Er(h)$ in order to obtain its minimum: $$\\frac{dEr(h)}{dh} = \\dfrac{h\\left| f'''(c)\\right|}{3} - \\dfrac{\\varepsilon_r}{h^2} = 0,$$\n",
        "\n",
        "$$h_0 = \\left( \\dfrac{3 \\varepsilon_r}{\\left|f'''(c)\\right|} \\right)^{\\frac{1}{3}} =[f(x)=tan (x)] \\approx 2.273 \\cdot 10^{-6}.$$\n",
        "\n",
        "$$Er(h_0) \\approx 1.465 \\cdot 10^{-10}.$$\n",
        "\n",
        "As we can see, the experimentally obtained values are approximately consistent with the theory.\n",
        "For centered difference formula we obtaibed much less minimum value of error than for finite-difference version, and the minimum was achieved at smaller h-value."
      ],
      "metadata": {
        "id": "x0F6OcaJV96O"
      }
    },
    {
      "cell_type": "code",
      "source": [
        "# code for calculating of h0 and Er(h0) mentioned above\n",
        "\n",
        "#  finite-difference version\n",
        "h0 = 2*np.sqrt(np.finfo(float).eps/abs(2*np.sin(1)/(np.cos(1)**3))).round(12)\n",
        "Er_h0 = (h0*abs(abs(2*np.sin(1)/(np.cos(1)**3)))/2 + 2*np.finfo(float).eps/h0).round(11)\n",
        "print(f'finite-difference version: h0 = {h0}, Er(h0) = {Er_h0}')\n",
        "\n",
        "# centered difference version\n",
        "h0 = ((3 * np.finfo(float).eps/abs((2 + 4 * np.sin(1)**2)/(np.cos(1)**4)))**(1/3)).round(9)\n",
        "Er_h0 = (h0**2*abs((2 + 4 * np.sin(1)**2)/(np.cos(1)**4))/6 + np.finfo(float).eps/h0).round(13)\n",
        "print(f'centered difference version: h0 = {h0}, Er(h0) = {Er_h0}')"
      ],
      "metadata": {
        "colab": {
          "base_uri": "https://localhost:8080/"
        },
        "id": "Ozr_qszMWRT8",
        "outputId": "d8569293-bf70-4c56-e03f-763eb420fd9a"
      },
      "execution_count": 35,
      "outputs": [
        {
          "output_type": "stream",
          "name": "stdout",
          "text": [
            "finite-difference version: h0 = 9.124e-09, Er(h0) = 9.735e-08\n",
            "centered difference version: h0 = 2.273e-06, Er(h0) = 1.465e-10\n"
          ]
        }
      ]
    },
    {
      "cell_type": "markdown",
      "metadata": {
        "id": "OlohFH9bgZFG"
      },
      "source": [
        "### Problem 3 (2 points)\n",
        "* Implement regularized regression with an adaptive choice of regularization parameter. Your algorithm must accept the training data (`Xtrain`, `Ytrain`) and the input part of test data (`Xtest`), and output a prediction for test data (`Ypred`). You may use standard linear algebra libraries, but not specialized predictive modeling software (e.g., `scikit-learn`). Your algorithm should choose the regularization parameter by some optimization over a reasonable range of values and may use a sub-division of the training data into a train-in-train and a test-in-train components.\n",
        "* Test your algorithm on real data from UCI repository:\n",
        "  * https://archive.ics.uci.edu/ml/datasets/Relative+location+of+CT+slices+on+axial+axis\n",
        "  * https://archive.ics.uci.edu/ml/datasets/Physicochemical+Properties+of+Protein+Tertiary+Structure\n",
        "  \n",
        "  Use random subsets of 300 rows as training sets, and the remaining rows as the test sets. Use the relative RMS error as the measure of accuracy.\n",
        "  Compare your results with results of some linear models implemented in standard predictive modeling software    (e.g., `Ridge` and `LinearRegression` from `scikit-learn`)."
      ]
    },
    {
      "cell_type": "markdown",
      "source": [
        "### Answer 3"
      ],
      "metadata": {
        "id": "ocX0eHTEWWnP"
      }
    },
    {
      "cell_type": "code",
      "source": [
        "def custom_fit(X_train, y_train, mu):\n",
        "    Q = X_train.T.dot(X_train)\n",
        "    y1 = X_train.T.dot(y_train)\n",
        "\n",
        "    return np.linalg.inv(Q+mu*np.eye(X_train.shape[1])).dot(y1)\n",
        "\n",
        "def custom_predict(X_test, coeffs):\n",
        "    return X_test.dot(coeffs)\n",
        "\n",
        "def getRRMSE(y_test, y_pred):\n",
        "    return np.linalg.norm(y_pred-y_test)/np.linalg.norm(y_test-np.mean(y_test))\n",
        "\n",
        "# Implementing deafult kfold gridsearch with number of splits = 5\n",
        "def custom_gridsearch(X_train, y_train, X_test):\n",
        "    n_splits = 5\n",
        "    fold = Ntrain // n_splits\n",
        "    RRMSEs = []\n",
        "    mus = np.logspace(-6, 2, 100)\n",
        "\n",
        "    for mu in mus:\n",
        "        RRMSE = 0\n",
        "\n",
        "        for n in range(n_splits):\n",
        "            X_train_fold = np.concatenate((X_train[0:n*fold], X_train[(n+1)*fold: Ntrain]))\n",
        "            y_train_fold = np.concatenate((y_train[0:n*fold], y_train[(n+1)*fold: Ntrain]))\n",
        "\n",
        "            X_test_fold = X_train[n*fold: (n+1)*fold]\n",
        "            y_test_fold = y_train[n*fold: (n+1)*fold]\n",
        "\n",
        "            coefs = custom_fit(X_train_fold, y_train_fold, mu)\n",
        "            y_pred_fold = custom_predict(X_test_fold, coefs)\n",
        "            RRMSE += getRRMSE(y_test_fold, y_pred_fold)\n",
        "\n",
        "        RRMSEs.append(RRMSE)\n",
        "\n",
        "    mu_best = mus[np.argmin(RRMSEs)]\n",
        "    coeffs = custom_fit(X_train, y_train, mu_best)\n",
        "    y_pred = custom_predict(X_test, coeffs)\n",
        "\n",
        "    return y_pred"
      ],
      "metadata": {
        "id": "V1EsqCvvWZhn"
      },
      "execution_count": 36,
      "outputs": []
    },
    {
      "cell_type": "code",
      "source": [
        "# Testing on first dataset\n",
        "\n",
        "data = np.loadtxt('slice_localization_data.csv', skiprows=1, delimiter=',')\n",
        "\n",
        "N = len(data)\n",
        "X = data[:, 1:-1] # input values\n",
        "y = data[:, -1]\n",
        "\n",
        "Ntrain = 300\n",
        "\n",
        "inds = np.random.permutation(N)\n",
        "\n",
        "train = inds[:Ntrain]\n",
        "test = inds[Ntrain:]\n",
        "X_train = X[train]\n",
        "y_train = y[train]\n",
        "X_test = X[test]\n",
        "y_test = y[test]"
      ],
      "metadata": {
        "id": "xAz39VuEWdiS"
      },
      "execution_count": 37,
      "outputs": []
    },
    {
      "cell_type": "code",
      "source": [
        "# Comparing results of algorithm with results of linear models from sklearn\n",
        "\n",
        "from sklearn.linear_model import LinearRegression\n",
        "from sklearn.linear_model import Ridge\n",
        "from sklearn.model_selection import GridSearchCV\n",
        "\n",
        "# Custom algorithm (custom ridge + custom gridsearch)\n",
        "y_pred = custom_gridsearch(X_train, y_train, X_test)\n",
        "print(f'Custom algorithm RRMSE: {getRRMSE(y_test, y_pred).round(3)}')\n",
        "\n",
        "# Gridsearch Ridge\n",
        "grid = {\n",
        "    'alpha':np.logspace(-6,2,100)\n",
        "}\n",
        "gs = GridSearchCV(Ridge(), param_grid=grid)\n",
        "gs.fit(X_train, y_train)\n",
        "print(f'Ridge() RRMSE: {getRRMSE(y_test, gs.predict(X_test)).round(3)}')\n",
        "\n",
        "# Linear regression without gridsearch\n",
        "clf = LinearRegression()\n",
        "clf.fit(X_train, y_train)\n",
        "print(f'LinearRegression() RRMSE: {getRRMSE(y_test, clf.predict(X_test)).round(3)}')"
      ],
      "metadata": {
        "colab": {
          "base_uri": "https://localhost:8080/"
        },
        "id": "O5s_OxbiXI0u",
        "outputId": "2b7f3694-2f47-476a-84ac-d7a06c932caf"
      },
      "execution_count": 38,
      "outputs": [
        {
          "output_type": "stream",
          "name": "stdout",
          "text": [
            "Custom algorithm RRMSE: 0.483\n",
            "Ridge() RRMSE: 0.452\n",
            "LinearRegression() RRMSE: 1.216\n"
          ]
        }
      ]
    },
    {
      "cell_type": "code",
      "source": [
        "# Testing using second dataset\n",
        "\n",
        "data = np.loadtxt('CASP.csv', skiprows=1, delimiter=',')\n",
        "N = len(data)\n",
        "X = data[:, 1:] # input values\n",
        "y = data[:, 0] # output values\n",
        "\n",
        "Ntrain = 300\n",
        "\n",
        "inds = np.random.permutation(N)\n",
        "\n",
        "train = inds[:Ntrain]\n",
        "test = inds[Ntrain:]\n",
        "X_train = X[train]\n",
        "y_train = y[train]\n",
        "X_test = X[test]\n",
        "y_test = y[test]"
      ],
      "metadata": {
        "id": "i2S2Ys9fnlpE"
      },
      "execution_count": 39,
      "outputs": []
    },
    {
      "cell_type": "code",
      "source": [
        "from sklearn.linear_model import LinearRegression\n",
        "from sklearn.linear_model import Ridge\n",
        "from sklearn.model_selection import GridSearchCV\n",
        "\n",
        "# Custom algorithm (custom ridge + custom gridsearch)\n",
        "y_pred = custom_gridsearch(X_train, y_train, X_test)\n",
        "print(f'Custom algorithm RRMSE: {getRRMSE(y_test, y_pred).round(3)}')\n",
        "\n",
        "# Gridsearch Ridge\n",
        "grid = {\n",
        "    'alpha':np.logspace(-6,2,100)\n",
        "}\n",
        "gs = GridSearchCV(Ridge(), param_grid=grid)\n",
        "gs.fit(X_train, y_train)\n",
        "print(f'Ridge() RRMSE: {getRRMSE(y_test, gs.predict(X_test)).round(3)}')\n",
        "\n",
        "# Linear regression without gridsearch\n",
        "clf = LinearRegression()\n",
        "clf.fit(X_train, y_train)\n",
        "print(f'LinearRegression() RRMSE: {getRRMSE(y_test, clf.predict(X_test)).round(3)}')"
      ],
      "metadata": {
        "colab": {
          "base_uri": "https://localhost:8080/"
        },
        "id": "bCnLfNAonrmN",
        "outputId": "b7580161-2705-4fe1-b675-b5afa68f161b"
      },
      "execution_count": 40,
      "outputs": [
        {
          "output_type": "stream",
          "name": "stdout",
          "text": [
            "Custom algorithm RRMSE: 0.898\n",
            "Ridge() RRMSE: 0.902\n",
            "LinearRegression() RRMSE: 0.902\n"
          ]
        }
      ]
    },
    {
      "cell_type": "markdown",
      "source": [
        "Values for our algorithm are close to values for sklearn ridge for both datasets."
      ],
      "metadata": {
        "id": "FZsp8h-tH3XZ"
      }
    },
    {
      "cell_type": "markdown",
      "metadata": {
        "id": "3l6EgKSAgZFI"
      },
      "source": [
        "### Problem 4 (2 points)\n",
        "Suppose that we use the Leapfrog algorithm with some $\\Delta t$ to simulate the dynamics of the harmonic oscillator (https://en.wikipedia.org/wiki/Harmonic_oscillator) with positive mass $m$ and force constant $k$ (in other words, with the energy function $H=\\frac{m\\dot x^2}{2}+\\frac{kx^2}{2}$). Assuming a perfect implementation of Leapfrog, at which combinations of $\\Delta t, m, k$ will the simulation diverge as $n\\to\\infty$, in the sense that $\\sup_n(\\tilde x_n^2+\\tilde v_{n+1/2}^2)=\\infty$?"
      ]
    },
    {
      "cell_type": "markdown",
      "source": [
        "### Answer 4"
      ],
      "metadata": {
        "id": "7R20QPMEn05f"
      }
    },
    {
      "cell_type": "markdown",
      "source": [
        "Leapfrog integration method:\n",
        "\n",
        "\\begin{align}\n",
        "\\tilde x_{n+1} &= \\tilde x_{n}+\\tilde v_{n+1/2}\\Delta t\\\\\n",
        "\\tilde v_{n+1/2} &= \\tilde v_{n-1/2}+f_1(\\tilde x_n)\\Delta t\n",
        "\\end{align}\n",
        "\n",
        "Considering dynamics of the harmonic oscillator we want to solve next system:\n",
        "\n",
        "$$\\frac{d}{dt}{x\\choose v}={v\\choose f_1(x)}= {v\\choose -\\frac{kx}{m}}$$\n",
        "\n",
        "\\begin{align}\n",
        "\\tilde x_{n+1} &= \\tilde x_{n}+\\tilde v_{n+1/2}\\Delta t\\\\\n",
        "\\tilde v_{n+1/2} &= \\tilde v_{n-1/2} -\\frac{k}{m}\\tilde x_n\\Delta t\n",
        "\\end{align}\n",
        "$$\\Downarrow$$\n",
        "\n",
        "$$\\left(\\begin{matrix}\\tilde x_{n+1}\\\\ \\tilde v_{n+1/2}\\end{matrix}\\right)=\\left(\\begin{matrix}1 - \\frac{k}{m} {\\Delta t}^2 &\\Delta t\\\\-\\frac{k}{m}\\Delta t & 1 \\end{matrix}\\right) \\left(\\begin{matrix}\\tilde x_{n}\\\\ \\tilde v_{n-1/2}\\end{matrix}\\right)$$\n",
        "\n",
        "$$\\det\\left(\\begin{matrix}1 - \\frac{k}{m} {\\Delta t}^2 - \\lambda &\\Delta t\\\\-\\frac{k}{m}\\Delta t & 1 - \\lambda \\end{matrix}\\right) = 0$$\n",
        "\n",
        "We form a basis from the eigenvectors, decompose the initial condition according to this basis, then we move forward using a matrix, the matrix acts on the eigenvectors by multiplying by the eigenvalue, after n steps of the algorithm, we multiply the eigenvectors by the eigenvalues n times.\n",
        "\n",
        "Let's say $\\lambda_{1,2}$ - eigenvalues matrix, $\\textbf{y}_{1,2}$ eigenvectors, then\n",
        "\n",
        "$$\\left(\\begin{matrix}\\tilde x_{n+1}\\\\ \\tilde v_{n+1/2} \\end{matrix}\\right) = {\\lambda_1}^n \\textbf{y}_{1} + {\\lambda_2}^n \\textbf{y}_{2},$$\n",
        "\n",
        "$$\\text{where  }\\lambda_{1,2} = \\frac{2-\\frac{k\\Delta t^2}{m} \\pm \\sqrt{\\frac{k^2\\Delta t^4}{m^2} - \\frac{4k\\Delta t^2}{m}}}{2}$$\n",
        "\n",
        "In case of $\\frac{k{\\Delta t}^2}{m}  > 4$ one can notice, that $|\\lambda|>1$, so $|\\lambda^n|\\to\\inf, $ if $n \\to \\inf$; so simulation diverge as  $𝑛 \\to \\infty$, in the sense that $\\sup_n(\\tilde x_n^2+\\tilde v_{n+1/2}^2)=\\infty$.\n",
        "\n",
        "Answer: $\\frac{k{\\Delta t}^2}{m}  > 4$"
      ],
      "metadata": {
        "id": "OPCaFA_goEhX"
      }
    },
    {
      "cell_type": "markdown",
      "metadata": {
        "id": "0JlnITqYgZFJ"
      },
      "source": [
        "### Problem 5 (2 points)\n",
        "Suppose that we are solving the ODE $\\frac{d}{dt}\\mathbf {x}=f(\\mathbf x)$ (with, generally, a vector-valued $\\mathbf x(t)$) by iterations\n",
        "\n",
        "$$\\left\\{\\begin{align}\\mathbf k &= f(\\tilde{\\mathbf x}_{n})\\Delta t\\\\\n",
        "\\tilde {\\mathbf x}_{n+1} &= \\tilde {\\mathbf x}_{n}+f(\\tilde{\\mathbf x}_{n}+\\tfrac{1}{2}\\mathbf k)\\Delta t\n",
        "\\end{align}\\right.$$\n",
        "\n",
        "Find the global convergence order of this method, and verify it experimentally."
      ]
    },
    {
      "cell_type": "markdown",
      "source": [
        "### Answer 5\n",
        "\n",
        "Reforming the ODE with the given system and a time step $ h $, and the solution $ y_n $ at the $ n $th time step, let's say that we wish to compute $ y_{n+1} $ in the following fashion:\n",
        "\n",
        "$$ k_1 = hf(y_n, t_n) \\\\\n",
        "k_2 = hf(y_n, + βk_1, t_{n} + \\alpha h) \\\\\n",
        "y_{n+1} = y_{n} + ak_{1} + bk_{2} $$\n",
        "\n",
        "where the constants $ \\alpha $, $ β $, a and b have to be evaluated so that the resulting method has $ O(h3) $. Note that if $ k_{2}=0 $ and $ a=1 $, then next equation reduces to the forward Euler method:\n",
        "\n",
        "Now, let's write down the Taylor series expansion of $ y $ in the neighborhood of $ t_n $ correct to the $ h^2 $ term:\n",
        "\n",
        "$$ y(t_{n+1}) = y(t_n) + h\\frac{dy}{dt}|t_n + \\frac{h^2 d^2y}{2dt^2}|t_n + O(h^{3}) $$\n",
        "\n",
        "However, we know that $ dy/dt = f(y,t) $ so that\n",
        "\n",
        "$$ \\frac{d^2y}{dt^2} = \\frac{df(y, t)}{dt} = \\frac{\\partial f}{\\partial t} + \\frac{\\partial f dy}{\\partial y dt} = \\frac{\\partial f}{\\partial t} + f\\frac{\\partial f}{\\partial y} $$\n",
        "\n",
        "So from the above analysis, we get\n",
        "\n",
        "$$ y_{n+1} = y_n + hf(y_n, t_n) + \\frac{h^2}{2} \\Big[\\frac{\\partial f}{\\partial t} + f\\frac{\\partial f}{\\partial y}\\Big] (y_n, t_n) + O(h^3)  $$\n",
        "\n",
        "However, the term $ k_2 $ in the proposed Runge Kutta(RK) method of first equation can be expanded correct to $ O(h^{3}) $ as\n",
        "\n",
        "$$ k_2 = hf(y_n + βk_1, t_n + αh) \\\\\n",
        "= h \\Big( f(y_n, t_n) + αh\\frac{\\partial f}{\\partial t}(y_n, t_n) + βk_1\\frac{\\partial f}{\\partial t}(y_n, t_n) \\Big) + O(h^{3}) $$\n",
        "\n",
        "Now, substituting for $ k_2 $ from previous equations, we get\n",
        "\n",
        "$$ y_{n+1} = y_n + (a+b)hf(y_n, t_n) + bh^2(α\\frac{\\partial f}{\\partial t} + βf\\frac{\\partial f}{\\partial t})(y_n, t_n) + O(h^{3}) $$\n",
        "\n",
        "Comparing the terms with identical coefficients gives us the following system of equations to determine the constants:\n",
        "\n",
        "$$ a + b = 1 \\\\\n",
        "αb = \\frac{1}{2} \\\\\n",
        "βb = \\frac{1}{2} $$\n",
        "\n",
        "There are infinitely many choices of a, b, $\\alpha$ and $\\beta$ which satisfy, we can choose for instance $\\alpha = \\beta = 1$ and $ a=b=\\frac{1}{2} $. With this choice, we have the classical second order accurate Runge-Kutta method (RK2). In a sequence, with a similar fashion Runge-Kutta methods of higher order can be developed."
      ],
      "metadata": {
        "id": "OyEza3gw3HRH"
      }
    },
    {
      "cell_type": "code",
      "source": [],
      "metadata": {
        "id": "U2i4k4Mf4NqD"
      },
      "execution_count": null,
      "outputs": []
    }
  ]
}