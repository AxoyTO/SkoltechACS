{
  "nbformat": 4,
  "nbformat_minor": 0,
  "metadata": {
    "colab": {
      "provenance": []
    },
    "kernelspec": {
      "name": "python3",
      "display_name": "Python 3"
    },
    "language_info": {
      "name": "python"
    }
  },
  "cells": [
    {
      "cell_type": "code",
      "source": [
        "import numpy as np"
      ],
      "metadata": {
        "id": "nqFDni7IoLmD"
      },
      "execution_count": null,
      "outputs": []
    },
    {
      "cell_type": "code",
      "source": [
        "%%timeit\n",
        "list0 = [i for i in range(0, 99, 2)]"
      ],
      "metadata": {
        "colab": {
          "base_uri": "https://localhost:8080/"
        },
        "id": "-9PWqKRipxde",
        "outputId": "66a09e39-894e-4799-f741-0eb031fbec9a"
      },
      "execution_count": null,
      "outputs": [
        {
          "output_type": "stream",
          "name": "stdout",
          "text": [
            "2.07 µs ± 519 ns per loop (mean ± std. dev. of 7 runs, 1000000 loops each)\n"
          ]
        }
      ]
    },
    {
      "cell_type": "code",
      "execution_count": null,
      "metadata": {
        "colab": {
          "base_uri": "https://localhost:8080/"
        },
        "id": "j96DeUTOoB-J",
        "outputId": "6b57fc93-7888-44fe-a1d5-60001e772562"
      },
      "outputs": [
        {
          "output_type": "stream",
          "name": "stdout",
          "text": [
            "1.29 µs ± 399 ns per loop (mean ± std. dev. of 7 runs, 1000000 loops each)\n"
          ]
        }
      ],
      "source": [
        "%%timeit\n",
        "list1 = np.arange(0, 99, 2)"
      ]
    },
    {
      "cell_type": "code",
      "source": [
        "%%timeit\n",
        "list2 = list(range(0, 99, 2))"
      ],
      "metadata": {
        "colab": {
          "base_uri": "https://localhost:8080/"
        },
        "id": "Aq3noGBGoIe9",
        "outputId": "8fef546e-fca3-4973-c660-e21eb532c23e"
      },
      "execution_count": null,
      "outputs": [
        {
          "output_type": "stream",
          "name": "stdout",
          "text": [
            "737 ns ± 172 ns per loop (mean ± std. dev. of 7 runs, 1000000 loops each)\n"
          ]
        }
      ]
    },
    {
      "cell_type": "code",
      "source": [
        "def add(a, b):\n",
        "  return a+b"
      ],
      "metadata": {
        "id": "RAoXGtuNojzL"
      },
      "execution_count": null,
      "outputs": []
    },
    {
      "cell_type": "code",
      "source": [
        "l = np.arange(0, 99, 2)\n",
        "\n",
        "from functools import reduce\n",
        "\n",
        "def my_reduce(a):\n",
        "  res = 0\n",
        "  for elem in a:\n",
        "    res = res+elem\n",
        "  return res"
      ],
      "metadata": {
        "id": "5WFkEmyloNyv"
      },
      "execution_count": null,
      "outputs": []
    },
    {
      "cell_type": "code",
      "source": [
        "%%timeit\n",
        "reduce(add, l)"
      ],
      "metadata": {
        "colab": {
          "base_uri": "https://localhost:8080/"
        },
        "id": "fj3N-A0jr6Fy",
        "outputId": "00ae568a-d133-41be-cc71-aaab37571232"
      },
      "execution_count": null,
      "outputs": [
        {
          "output_type": "stream",
          "name": "stdout",
          "text": [
            "9.6 µs ± 2.78 µs per loop (mean ± std. dev. of 7 runs, 100000 loops each)\n"
          ]
        }
      ]
    },
    {
      "cell_type": "code",
      "source": [
        "%%timeit\n",
        "my_reduce(l)"
      ],
      "metadata": {
        "id": "WpxTr0mIouPO",
        "colab": {
          "base_uri": "https://localhost:8080/"
        },
        "outputId": "dcf7ecf6-da5f-43da-cd16-aebe0e1cfcfc"
      },
      "execution_count": null,
      "outputs": [
        {
          "output_type": "stream",
          "name": "stdout",
          "text": [
            "7.17 µs ± 1.8 µs per loop (mean ± std. dev. of 7 runs, 100000 loops each)\n"
          ]
        }
      ]
    },
    {
      "cell_type": "code",
      "source": [],
      "metadata": {
        "id": "iJdRWdq5ohBw"
      },
      "execution_count": null,
      "outputs": []
    }
  ]
}